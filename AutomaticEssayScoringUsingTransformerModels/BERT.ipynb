{
  "nbformat": 4,
  "nbformat_minor": 2,
  "metadata": {
    "colab": {
      "name": "BERT.ipynb",
      "provenance": [],
      "collapsed_sections": [
        "teEwQqVmwVJ1"
      ]
    },
    "kernelspec": {
      "name": "python3",
      "display_name": "Python 3.9.1 64-bit"
    },
    "language_info": {
      "name": "python",
      "version": "3.9.1",
      "mimetype": "text/x-python",
      "codemirror_mode": {
        "name": "ipython",
        "version": 3
      },
      "pygments_lexer": "ipython3",
      "nbconvert_exporter": "python",
      "file_extension": ".py"
    },
    "accelerator": "GPU",
    "interpreter": {
      "hash": "c3801f02b1ab900fae6cec7bf788b9edbd67be0743016df220f8b4c20d12b78d"
    },
    "widgets": {
      "application/vnd.jupyter.widget-state+json": {
        "be44105622994af98aad0a9b4f067299": {
          "model_module": "@jupyter-widgets/controls",
          "model_name": "HBoxModel",
          "model_module_version": "1.5.0",
          "state": {
            "_view_name": "HBoxView",
            "_dom_classes": [],
            "_model_name": "HBoxModel",
            "_view_module": "@jupyter-widgets/controls",
            "_model_module_version": "1.5.0",
            "_view_count": null,
            "_view_module_version": "1.5.0",
            "box_style": "",
            "layout": "IPY_MODEL_6e754d7597484d7e9c4a22849274e858",
            "_model_module": "@jupyter-widgets/controls",
            "children": [
              "IPY_MODEL_728de716925d4f40ae2f3d35098769da",
              "IPY_MODEL_d791651a058f431884ef88ebac60ce31",
              "IPY_MODEL_26b7144e9eb240158f02bc62a80b179d"
            ]
          }
        }
      }
    }
  },
  "cells": [
    {
      "cell_type": "markdown",
      "source": [
        "## Preparation of the Environment"
      ],
      "metadata": {
        "id": "89_toBSM-lvh"
      }
    },
    {
      "cell_type": "markdown",
      "source": [
        "### Google Colab"
      ],
      "metadata": {
        "id": "Rs1l0RWJdRbd"
      }
    },
    {
      "cell_type": "code",
      "execution_count": 1,
      "source": [
        "#  Installation of the following additional packages\r\n",
        "!pip install transformers\r\n",
        "!pip install datasets"
      ],
      "outputs": [
        {
          "output_type": "stream",
          "name": "stdout",
          "text": [
            "Collecting transformers\n",
            "  Downloading transformers-4.11.0-py3-none-any.whl (2.9 MB)\n",
            "\u001b[K     |████████████████████████████████| 2.9 MB 4.1 MB/s \n",
            "\u001b[?25hCollecting pyyaml>=5.1\n",
            "  Downloading PyYAML-5.4.1-cp37-cp37m-manylinux1_x86_64.whl (636 kB)\n",
            "\u001b[K     |████████████████████████████████| 636 kB 56.9 MB/s \n",
            "\u001b[?25hRequirement already satisfied: filelock in /usr/local/lib/python3.7/dist-packages (from transformers) (3.0.12)\n",
            "Requirement already satisfied: tqdm>=4.27 in /usr/local/lib/python3.7/dist-packages (from transformers) (4.62.2)\n",
            "Requirement already satisfied: numpy>=1.17 in /usr/local/lib/python3.7/dist-packages (from transformers) (1.19.5)\n",
            "Collecting tokenizers<0.11,>=0.10.1\n",
            "  Downloading tokenizers-0.10.3-cp37-cp37m-manylinux_2_5_x86_64.manylinux1_x86_64.manylinux_2_12_x86_64.manylinux2010_x86_64.whl (3.3 MB)\n",
            "\u001b[K     |████████████████████████████████| 3.3 MB 40.3 MB/s \n",
            "\u001b[?25hRequirement already satisfied: regex!=2019.12.17 in /usr/local/lib/python3.7/dist-packages (from transformers) (2019.12.20)\n",
            "Requirement already satisfied: requests in /usr/local/lib/python3.7/dist-packages (from transformers) (2.23.0)\n",
            "Collecting sacremoses\n",
            "  Downloading sacremoses-0.0.46-py3-none-any.whl (895 kB)\n",
            "\u001b[K     |████████████████████████████████| 895 kB 45.8 MB/s \n",
            "\u001b[?25hCollecting huggingface-hub>=0.0.17\n",
            "  Downloading huggingface_hub-0.0.17-py3-none-any.whl (52 kB)\n",
            "\u001b[K     |████████████████████████████████| 52 kB 1.6 MB/s \n",
            "\u001b[?25hRequirement already satisfied: importlib-metadata in /usr/local/lib/python3.7/dist-packages (from transformers) (4.8.1)\n",
            "Requirement already satisfied: packaging>=20.0 in /usr/local/lib/python3.7/dist-packages (from transformers) (21.0)\n",
            "Requirement already satisfied: typing-extensions in /usr/local/lib/python3.7/dist-packages (from huggingface-hub>=0.0.17->transformers) (3.7.4.3)\n",
            "Requirement already satisfied: pyparsing>=2.0.2 in /usr/local/lib/python3.7/dist-packages (from packaging>=20.0->transformers) (2.4.7)\n",
            "Requirement already satisfied: zipp>=0.5 in /usr/local/lib/python3.7/dist-packages (from importlib-metadata->transformers) (3.5.0)\n",
            "Requirement already satisfied: urllib3!=1.25.0,!=1.25.1,<1.26,>=1.21.1 in /usr/local/lib/python3.7/dist-packages (from requests->transformers) (1.24.3)\n",
            "Requirement already satisfied: certifi>=2017.4.17 in /usr/local/lib/python3.7/dist-packages (from requests->transformers) (2021.5.30)\n",
            "Requirement already satisfied: chardet<4,>=3.0.2 in /usr/local/lib/python3.7/dist-packages (from requests->transformers) (3.0.4)\n",
            "Requirement already satisfied: idna<3,>=2.5 in /usr/local/lib/python3.7/dist-packages (from requests->transformers) (2.10)\n",
            "Requirement already satisfied: joblib in /usr/local/lib/python3.7/dist-packages (from sacremoses->transformers) (1.0.1)\n",
            "Requirement already satisfied: click in /usr/local/lib/python3.7/dist-packages (from sacremoses->transformers) (7.1.2)\n",
            "Requirement already satisfied: six in /usr/local/lib/python3.7/dist-packages (from sacremoses->transformers) (1.15.0)\n",
            "Installing collected packages: tokenizers, sacremoses, pyyaml, huggingface-hub, transformers\n",
            "  Attempting uninstall: pyyaml\n",
            "    Found existing installation: PyYAML 3.13\n",
            "    Uninstalling PyYAML-3.13:\n",
            "      Successfully uninstalled PyYAML-3.13\n",
            "Successfully installed huggingface-hub-0.0.17 pyyaml-5.4.1 sacremoses-0.0.46 tokenizers-0.10.3 transformers-4.11.0\n",
            "Collecting datasets\n",
            "  Downloading datasets-1.12.1-py3-none-any.whl (270 kB)\n",
            "\u001b[K     |████████████████████████████████| 270 kB 4.1 MB/s \n",
            "\u001b[?25hRequirement already satisfied: numpy>=1.17 in /usr/local/lib/python3.7/dist-packages (from datasets) (1.19.5)\n",
            "Collecting aiohttp\n",
            "  Downloading aiohttp-3.7.4.post0-cp37-cp37m-manylinux2014_x86_64.whl (1.3 MB)\n",
            "\u001b[K     |████████████████████████████████| 1.3 MB 29.9 MB/s \n",
            "\u001b[?25hRequirement already satisfied: requests>=2.19.0 in /usr/local/lib/python3.7/dist-packages (from datasets) (2.23.0)\n",
            "Requirement already satisfied: huggingface-hub<0.1.0,>=0.0.14 in /usr/local/lib/python3.7/dist-packages (from datasets) (0.0.17)\n",
            "Collecting xxhash\n",
            "  Downloading xxhash-2.0.2-cp37-cp37m-manylinux2010_x86_64.whl (243 kB)\n",
            "\u001b[K     |████████████████████████████████| 243 kB 53.1 MB/s \n",
            "\u001b[?25hRequirement already satisfied: pyarrow!=4.0.0,>=1.0.0 in /usr/local/lib/python3.7/dist-packages (from datasets) (3.0.0)\n",
            "Requirement already satisfied: dill in /usr/local/lib/python3.7/dist-packages (from datasets) (0.3.4)\n",
            "Requirement already satisfied: multiprocess in /usr/local/lib/python3.7/dist-packages (from datasets) (0.70.12.2)\n",
            "Requirement already satisfied: packaging in /usr/local/lib/python3.7/dist-packages (from datasets) (21.0)\n",
            "Collecting fsspec[http]>=2021.05.0\n",
            "  Downloading fsspec-2021.9.0-py3-none-any.whl (123 kB)\n",
            "\u001b[K     |████████████████████████████████| 123 kB 48.5 MB/s \n",
            "\u001b[?25hRequirement already satisfied: importlib-metadata in /usr/local/lib/python3.7/dist-packages (from datasets) (4.8.1)\n",
            "Requirement already satisfied: pandas in /usr/local/lib/python3.7/dist-packages (from datasets) (1.1.5)\n",
            "Requirement already satisfied: tqdm>=4.62.1 in /usr/local/lib/python3.7/dist-packages (from datasets) (4.62.2)\n",
            "Requirement already satisfied: typing-extensions in /usr/local/lib/python3.7/dist-packages (from huggingface-hub<0.1.0,>=0.0.14->datasets) (3.7.4.3)\n",
            "Requirement already satisfied: filelock in /usr/local/lib/python3.7/dist-packages (from huggingface-hub<0.1.0,>=0.0.14->datasets) (3.0.12)\n",
            "Requirement already satisfied: pyparsing>=2.0.2 in /usr/local/lib/python3.7/dist-packages (from packaging->datasets) (2.4.7)\n",
            "Requirement already satisfied: certifi>=2017.4.17 in /usr/local/lib/python3.7/dist-packages (from requests>=2.19.0->datasets) (2021.5.30)\n",
            "Requirement already satisfied: urllib3!=1.25.0,!=1.25.1,<1.26,>=1.21.1 in /usr/local/lib/python3.7/dist-packages (from requests>=2.19.0->datasets) (1.24.3)\n",
            "Requirement already satisfied: idna<3,>=2.5 in /usr/local/lib/python3.7/dist-packages (from requests>=2.19.0->datasets) (2.10)\n",
            "Requirement already satisfied: chardet<4,>=3.0.2 in /usr/local/lib/python3.7/dist-packages (from requests>=2.19.0->datasets) (3.0.4)\n",
            "Collecting yarl<2.0,>=1.0\n",
            "  Downloading yarl-1.6.3-cp37-cp37m-manylinux2014_x86_64.whl (294 kB)\n",
            "\u001b[K     |████████████████████████████████| 294 kB 50.2 MB/s \n",
            "\u001b[?25hRequirement already satisfied: attrs>=17.3.0 in /usr/local/lib/python3.7/dist-packages (from aiohttp->datasets) (21.2.0)\n",
            "Collecting async-timeout<4.0,>=3.0\n",
            "  Downloading async_timeout-3.0.1-py3-none-any.whl (8.2 kB)\n",
            "Collecting multidict<7.0,>=4.5\n",
            "  Downloading multidict-5.1.0-cp37-cp37m-manylinux2014_x86_64.whl (142 kB)\n",
            "\u001b[K     |████████████████████████████████| 142 kB 48.7 MB/s \n",
            "\u001b[?25hRequirement already satisfied: zipp>=0.5 in /usr/local/lib/python3.7/dist-packages (from importlib-metadata->datasets) (3.5.0)\n",
            "Requirement already satisfied: pytz>=2017.2 in /usr/local/lib/python3.7/dist-packages (from pandas->datasets) (2018.9)\n",
            "Requirement already satisfied: python-dateutil>=2.7.3 in /usr/local/lib/python3.7/dist-packages (from pandas->datasets) (2.8.2)\n",
            "Requirement already satisfied: six>=1.5 in /usr/local/lib/python3.7/dist-packages (from python-dateutil>=2.7.3->pandas->datasets) (1.15.0)\n",
            "Installing collected packages: multidict, yarl, async-timeout, fsspec, aiohttp, xxhash, datasets\n",
            "Successfully installed aiohttp-3.7.4.post0 async-timeout-3.0.1 datasets-1.12.1 fsspec-2021.9.0 multidict-5.1.0 xxhash-2.0.2 yarl-1.6.3\n"
          ]
        }
      ],
      "metadata": {
        "colab": {
          "base_uri": "https://localhost:8080/"
        },
        "id": "f3N8ANd7-lA6",
        "outputId": "5808079c-a045-4854-8db0-b84e4149711b"
      }
    },
    {
      "cell_type": "markdown",
      "source": [
        "### Local Installation\n",
        "On a local computer a virtual environment with all needed packages has to be setup. Follow the instructions given on Higgingface [here](https://huggingface.co/course/chapter0?fw=pt)."
      ],
      "metadata": {
        "id": "LALf-IWfdRbh"
      }
    },
    {
      "cell_type": "markdown",
      "source": [
        "## Data Import"
      ],
      "metadata": {
        "id": "RaYkaoIKwOaa"
      }
    },
    {
      "cell_type": "markdown",
      "source": [
        "### Google Colab"
      ],
      "metadata": {
        "id": "VXMNIp_wwYJ4"
      }
    },
    {
      "cell_type": "code",
      "execution_count": 2,
      "source": [
        "# Import from GoogleDrive\r\n",
        "from google.colab import drive\r\n",
        "drive.mount('/content/gdrive')"
      ],
      "outputs": [
        {
          "output_type": "stream",
          "name": "stdout",
          "text": [
            "Mounted at /content/gdrive\n"
          ]
        }
      ],
      "metadata": {
        "colab": {
          "base_uri": "https://localhost:8080/"
        },
        "id": "KQ9YO5YjweUb",
        "outputId": "0443f842-a480-4c2e-cfa9-1df10d383a94"
      }
    },
    {
      "cell_type": "code",
      "execution_count": 3,
      "source": [
        "import os\r\n",
        "os.chdir(\"//content/gdrive/MyDrive/NLP-Paper/data\")\r\n",
        "\r\n",
        "import numpy\r\n",
        "import pandas as pd\r\n",
        "data = pd.read_csv(\"data.csv\", encoding=\"UTF-8\")"
      ],
      "outputs": [],
      "metadata": {
        "id": "UttyyLWE1NN-"
      }
    },
    {
      "cell_type": "markdown",
      "source": [
        "### Local Installation"
      ],
      "metadata": {
        "id": "teEwQqVmwVJ1"
      }
    },
    {
      "cell_type": "code",
      "execution_count": null,
      "source": [
        "import os\r\n",
        "os.chdir(\"<Insert the path to your local folder including the data here.>\")\r\n",
        "\r\n",
        "import numpy\r\n",
        "import pandas as pd\r\n",
        "data = pd.read_csv(\"data.csv\", encoding=\"UTF-8\")"
      ],
      "outputs": [],
      "metadata": {
        "id": "2YlrlZzMwR8V"
      }
    },
    {
      "cell_type": "markdown",
      "source": [
        "## Data Preparation"
      ],
      "metadata": {
        "id": "8mdYff4zdRby"
      }
    },
    {
      "cell_type": "code",
      "execution_count": 4,
      "source": [
        "# Split the data into two pieces, one for training and one for testing\r\n",
        "from sklearn.model_selection import train_test_split\r\n",
        "train_text_series , test_text_series, train_label_series, test_label_series = train_test_split(data[\"text\"], data[\"label\"], test_size = 0.30, random_state = 42)\r\n",
        "\r\n",
        "# Split the training data set again to additionally get a validation data set for tuning the hyper parameters of the model\r\n",
        "#train_text_series, valid_text_series, train_label_series, valid_label_series = train_test_split(train_text_series, train_label_series, test_size = 0.177, random_state = 42)\r\n",
        "\r\n",
        "# Casting the data from series objects into lists (as expected from the tokenizer function below)\r\n",
        "train_text = train_text_series.to_list()\r\n",
        "#valid_text = valid_text_series.to_list()\r\n",
        "test_text = test_text_series.to_list()\r\n",
        "train_label = train_label_series.to_list()\r\n",
        "#valid_label = valid_label_series.to_list()\r\n",
        "test_label = test_label_series.to_list()\r\n",
        "\r\n",
        "# Sample sizes\r\n",
        "print(\"Size of the training dataset: \", len(train_text))\r\n",
        "#print(\"Size of the validation dataset: \", len(valid_text))\r\n",
        "print(\"Size of the test dataset: \", len(test_text))"
      ],
      "outputs": [
        {
          "output_type": "stream",
          "name": "stdout",
          "text": [
            "Size of the training dataset:  1461\n",
            "Size of the test dataset:  627\n"
          ]
        }
      ],
      "metadata": {
        "id": "DFJCf4PO3Ye2",
        "colab": {
          "base_uri": "https://localhost:8080/"
        },
        "outputId": "f0ecc0a8-56af-45c2-e43c-1a975b1b1688"
      }
    },
    {
      "cell_type": "markdown",
      "source": [
        "## Tokenizing of the Texts"
      ],
      "metadata": {
        "id": "VwMqoRIeZZQg"
      }
    },
    {
      "cell_type": "code",
      "execution_count": 7,
      "source": [
        "from transformers import AutoTokenizer\r\n",
        "import numpy as np\r\n",
        "\r\n",
        "# Definition of the model that will be fine-tuned\r\n",
        "#checkpoint = \"bert-base-german-cased\"\r\n",
        "checkpoint = \"deepset/gbert-base\"\r\n",
        "# Getting the tokenizer for the defined model\r\n",
        "tokenizer = AutoTokenizer.from_pretrained(checkpoint)\r\n",
        "\r\n",
        "# Getting the encodings (as tensors for tensorflow) for the texts for training, validation, and testing\r\n",
        "train_encodings = dict(tokenizer(train_text, padding=True, truncation=True, return_tensors='np'))\r\n",
        "#valid_encodings = dict(tokenizer(valid_text, padding=True, truncation=True, return_tensors='np'))\r\n",
        "test_encodings = dict(tokenizer(test_text, padding=True, truncation=True, return_tensors='np'))"
      ],
      "outputs": [
        {
          "output_type": "stream",
          "name": "stderr",
          "text": [
            "/usr/local/lib/python3.7/dist-packages/transformers/configuration_utils.py:337: UserWarning: Passing `gradient_checkpointing` to a config initialization is deprecated and will be removed in v5 Transformers. Using `model.gradient_checkpointing_enable()` instead, or if you are using the `Trainer` API, pass `gradient_checkpointing=True` in your `TrainingArguments`.\n",
            "  \"Passing `gradient_checkpointing` to a config initialization is deprecated and will be removed in v5 \"\n"
          ]
        }
      ],
      "metadata": {
        "id": "ghZvNdJR6lV7",
        "colab": {
          "base_uri": "https://localhost:8080/"
        },
        "outputId": "31c26798-60ee-4d60-c6a8-fecc7c320d3e"
      }
    },
    {
      "cell_type": "markdown",
      "source": [
        "## Class Weight Calculation"
      ],
      "metadata": {
        "id": "1o1nQc2BZ1gJ"
      }
    },
    {
      "cell_type": "code",
      "execution_count": null,
      "source": [
        "# Calculation of class weights to account for the unbalanced sizes of the classes\r\n",
        "\r\n",
        "unique, counts = numpy.unique(train_label, return_counts=True)\r\n",
        "print(\"Class Frequencies: \", dict(zip(unique, counts)))\r\n",
        "\r\n",
        "class_weight = {0: counts[1]/counts[0], 1: 1.0}\r\n",
        "print(\"Class Weights: \", class_weight)"
      ],
      "outputs": [
        {
          "output_type": "stream",
          "name": "stdout",
          "text": [
            "Class Frequencies:  {0: 100, 1: 1361}\n",
            "Class Weights:  {0: 13.61, 1: 1.0}\n"
          ]
        }
      ],
      "metadata": {
        "colab": {
          "base_uri": "https://localhost:8080/"
        },
        "id": "UDQd4DhZe9fQ",
        "outputId": "8680ddd4-77b7-40a9-daab-010dbcaa999d"
      }
    },
    {
      "cell_type": "markdown",
      "source": [
        "## Fine-Tuning with learning rate optimization"
      ],
      "metadata": {
        "id": "MbUEV5OAexrM"
      }
    },
    {
      "cell_type": "markdown",
      "source": [
        "### Definition of the model"
      ],
      "metadata": {
        "id": "-lQrkQu-sYV-"
      }
    },
    {
      "cell_type": "code",
      "execution_count": null,
      "source": [
        "# Import of all needed functions and packages\r\n",
        "from tensorflow.keras.optimizers.schedules import PolynomialDecay\r\n",
        "from tensorflow.keras.optimizers import Adam\r\n",
        "from transformers import TFAutoModelForSequenceClassification\r\n",
        "from tensorflow.keras.losses import SparseCategoricalCrossentropy\r\n",
        "from utils import F1_metric\r\n",
        "\r\n",
        "# Definition of batch size and number of epochs\r\n",
        "batch_size = 8\r\n",
        "num_epochs = 3\r\n",
        "\r\n",
        "# Definition of the learning rate scheduler\r\n",
        "# The number of training steps is the number of samples in the dataset, divided by the batch size then multiplied by the total number of epochs\r\n",
        "num_train_steps = (len(train_label) // batch_size) * num_epochs\r\n",
        "lr_scheduler = PolynomialDecay(initial_learning_rate=5e-5, end_learning_rate=0., decay_steps=num_train_steps)\r\n",
        "\r\n",
        "# Definition of the optimizer using the learning rate scheduler\r\n",
        "opt = Adam(learning_rate=lr_scheduler)\r\n",
        "\r\n",
        "# Definition of the model architecture and initial weights\r\n",
        "model = TFAutoModelForSequenceClassification.from_pretrained(checkpoint, num_labels=2)\r\n",
        "# Definition of the loss function\r\n",
        "loss = SparseCategoricalCrossentropy(from_logits=True)\r\n",
        "# Definition of the full model for training (or fine-tuning)\r\n",
        "model.compile(optimizer=opt, loss=loss, metrics=['accuracy'])"
      ],
      "outputs": [
        {
          "output_type": "display_data",
          "data": {
            "application/vnd.jupyter.widget-view+json": {
              "model_id": "be44105622994af98aad0a9b4f067299",
              "version_minor": 0,
              "version_major": 2
            },
            "text/plain": [
              "Downloading:   0%|          | 0.00/533M [00:00<?, ?B/s]"
            ]
          },
          "metadata": {}
        },
        {
          "output_type": "stream",
          "name": "stderr",
          "text": [
            "All model checkpoint layers were used when initializing TFBertForSequenceClassification.\n",
            "\n",
            "Some layers of TFBertForSequenceClassification were not initialized from the model checkpoint at bert-base-german-cased and are newly initialized: ['classifier']\n",
            "You should probably TRAIN this model on a down-stream task to be able to use it for predictions and inference.\n"
          ]
        }
      ],
      "metadata": {
        "id": "KnYjZqwkbas2",
        "colab": {
          "base_uri": "https://localhost:8080/",
          "referenced_widgets": [
            "be44105622994af98aad0a9b4f067299"
          ]
        },
        "outputId": "1923a16e-ca6d-41e4-9ecf-4b003fccb1ae"
      }
    },
    {
      "cell_type": "markdown",
      "source": [
        "### Training of the model"
      ],
      "metadata": {
        "id": "f3jpXdhqsdn2"
      }
    },
    {
      "cell_type": "code",
      "execution_count": null,
      "source": [
        "model.fit(\n",
        "    train_encodings,\n",
        "    np.array(train_label),\n",
        "    #validation_data=(valid_encodings, np.array(valid_label)),\n",
        "    class_weight=class_weight,\n",
        "    batch_size=batch_size,\n",
        "    epochs=num_epochs\n",
        ")"
      ],
      "outputs": [
        {
          "output_type": "stream",
          "name": "stdout",
          "text": [
            "Epoch 1/3\n",
            "WARNING:tensorflow:The parameters `output_attentions`, `output_hidden_states` and `use_cache` cannot be updated when calling a model.They have to be set to True/False in the config object (i.e.: `config=XConfig.from_pretrained('name', output_attentions=True)`).\n",
            "WARNING:tensorflow:AutoGraph could not transform <bound method Socket.send of <zmq.Socket(zmq.PUSH) at 0x7fbf40764f30>> and will run it as-is.\n",
            "Please report this to the TensorFlow team. When filing the bug, set the verbosity to 10 (on Linux, `export AUTOGRAPH_VERBOSITY=10`) and attach the full output.\n",
            "Cause: module, class, method, function, traceback, frame, or code object was expected, got cython_function_or_method\n",
            "To silence this warning, decorate the function with @tf.autograph.experimental.do_not_convert\n",
            "WARNING: AutoGraph could not transform <bound method Socket.send of <zmq.Socket(zmq.PUSH) at 0x7fbf40764f30>> and will run it as-is.\n",
            "Please report this to the TensorFlow team. When filing the bug, set the verbosity to 10 (on Linux, `export AUTOGRAPH_VERBOSITY=10`) and attach the full output.\n",
            "Cause: module, class, method, function, traceback, frame, or code object was expected, got cython_function_or_method\n",
            "To silence this warning, decorate the function with @tf.autograph.experimental.do_not_convert\n",
            "WARNING:tensorflow:AutoGraph could not transform <function wrap at 0x7fbf5b917950> and will run it as-is.\n",
            "Cause: while/else statement not yet supported\n",
            "To silence this warning, decorate the function with @tf.autograph.experimental.do_not_convert\n",
            "WARNING: AutoGraph could not transform <function wrap at 0x7fbf5b917950> and will run it as-is.\n",
            "Cause: while/else statement not yet supported\n",
            "To silence this warning, decorate the function with @tf.autograph.experimental.do_not_convert\n",
            "WARNING:tensorflow:The parameter `return_dict` cannot be set in graph mode and will always be set to `True`.\n",
            "WARNING:tensorflow:The parameters `output_attentions`, `output_hidden_states` and `use_cache` cannot be updated when calling a model.They have to be set to True/False in the config object (i.e.: `config=XConfig.from_pretrained('name', output_attentions=True)`).\n",
            "WARNING:tensorflow:The parameter `return_dict` cannot be set in graph mode and will always be set to `True`.\n",
            "183/183 [==============================] - 342s 2s/step - loss: 1.0734 - accuracy: 0.7502\n",
            "Epoch 2/3\n",
            "183/183 [==============================] - 287s 2s/step - loss: 0.5276 - accuracy: 0.9069\n",
            "Epoch 3/3\n",
            "183/183 [==============================] - 289s 2s/step - loss: 0.1738 - accuracy: 0.9706\n"
          ]
        },
        {
          "output_type": "execute_result",
          "data": {
            "text/plain": [
              "<keras.callbacks.History at 0x7fbe41948b50>"
            ]
          },
          "metadata": {},
          "execution_count": 10
        }
      ],
      "metadata": {
        "id": "_K2ucH28smWX",
        "colab": {
          "base_uri": "https://localhost:8080/"
        },
        "outputId": "fcbb78fa-f433-410e-d811-18ac5b40dbf8"
      }
    },
    {
      "cell_type": "markdown",
      "source": [
        "## Saving and Loading the Model"
      ],
      "metadata": {
        "id": "1084-AMkhLOs"
      }
    },
    {
      "cell_type": "code",
      "execution_count": null,
      "source": [
        "# After fine-tuning you might want to save the model to re-use it later\r\n",
        "model.save_pretrained(\"hf_model_a4s_i2b.tf\")"
      ],
      "outputs": [],
      "metadata": {
        "id": "6Na_LvB65Las"
      }
    },
    {
      "cell_type": "code",
      "execution_count": null,
      "source": [
        "# To load an already fine-tuned model to directly use it\r\n",
        "from transformers import TFAutoModelForSequenceClassification\r\n",
        "model = TFAutoModelForSequenceClassification.from_pretrained(\"hf_model_a4s_i2b.tf\")"
      ],
      "outputs": [
        {
          "output_type": "stream",
          "name": "stderr",
          "text": [
            "Some layers from the model checkpoint at hf_model_a4s_i2b.tf were not used when initializing TFBertForSequenceClassification: ['dropout_113']\n",
            "- This IS expected if you are initializing TFBertForSequenceClassification from the checkpoint of a model trained on another task or with another architecture (e.g. initializing a BertForSequenceClassification model from a BertForPreTraining model).\n",
            "- This IS NOT expected if you are initializing TFBertForSequenceClassification from the checkpoint of a model that you expect to be exactly identical (initializing a BertForSequenceClassification model from a BertForSequenceClassification model).\n",
            "All the layers of TFBertForSequenceClassification were initialized from the model checkpoint at hf_model_a4s_i2b.tf.\n",
            "If your task is similar to the task the model of the checkpoint was trained on, you can already use TFBertForSequenceClassification for predictions without further training.\n"
          ]
        }
      ],
      "metadata": {
        "id": "N6Xq9f7A2eBw",
        "colab": {
          "base_uri": "https://localhost:8080/"
        },
        "outputId": "5e68cd15-07cc-416e-bce6-e291d8f1f33b"
      }
    },
    {
      "cell_type": "markdown",
      "source": [
        "## Model Evaluation"
      ],
      "metadata": {
        "id": "rhXlnofZe3RR"
      }
    },
    {
      "cell_type": "code",
      "execution_count": null,
      "source": [
        "import tensorflow as tf\r\n",
        "# Calculation of the probabilities for each class\r\n",
        "# There is no softmax layer at the top of the models in Hugging Face, therefore\r\n",
        "# the probabilities have to be calculated here using the softmax function\r\n",
        "test_pred_prob = tf.nn.softmax(model.predict(dict(test_encodings))['logits'])\r\n",
        "\r\n",
        "# Extraction of the respective class number with the highest probability\r\n",
        "test_pred_class = np.argmax(test_pred_prob, axis=1)"
      ],
      "outputs": [
        {
          "output_type": "stream",
          "name": "stdout",
          "text": [
            "WARNING:tensorflow:The parameters `output_attentions`, `output_hidden_states` and `use_cache` cannot be updated when calling a model.They have to be set to True/False in the config object (i.e.: `config=XConfig.from_pretrained('name', output_attentions=True)`).\n",
            "WARNING:tensorflow:The parameter `return_dict` cannot be set in graph mode and will always be set to `True`.\n"
          ]
        }
      ],
      "metadata": {
        "id": "UkrXbSWie7eB",
        "colab": {
          "base_uri": "https://localhost:8080/"
        },
        "outputId": "bd854a2e-d4ff-4e72-a122-cd1611f312cf"
      }
    },
    {
      "cell_type": "code",
      "execution_count": null,
      "source": [
        "# Checking the test data results\r\n",
        "\r\n",
        "from sklearn import metrics\r\n",
        "\r\n",
        "# Mean accuracy\r\n",
        "print(\"Mean Accuracy:\\n\", metrics.accuracy_score(test_label, test_pred_class))\r\n",
        "\r\n",
        "# Confusion matrix\r\n",
        "print(\"Confusion Matrix:\\n\", metrics.confusion_matrix(test_label, test_pred_class))\r\n",
        "\r\n",
        "# F1 Score\r\n",
        "print(\"F1 Score:\\n\", metrics.f1_score(test_label, test_pred_class))\r\n",
        "\r\n",
        "# Precision\r\n",
        "print(\"Precision:\\n\", metrics.precision_score(test_label, test_pred_class))\r\n",
        "\r\n",
        "# Recall\r\n",
        "print(\"Recall:\\n\", metrics.recall_score(test_label, test_pred_class))\r\n",
        "\r\n",
        "# ROC AUC Score\r\n",
        "print(\"ROC AUC:\\n\", metrics.roc_auc_score(test_label, test_pred_class))\r\n",
        "\r\n",
        "# Cohen's Kappa Score\r\n",
        "print(\"Cohen's Kappa:\\n\", metrics.cohen_kappa_score(test_label, test_pred_class))"
      ],
      "outputs": [
        {
          "output_type": "stream",
          "name": "stdout",
          "text": [
            "Mean Accuracy:\n",
            " 0.9409888357256778\n",
            "Confusion Matrix:\n",
            " [[ 31  15]\n",
            " [ 22 559]]\n",
            "F1 Score:\n",
            " 0.967965367965368\n",
            "Precision:\n",
            " 0.9738675958188153\n",
            "Recall:\n",
            " 0.9621342512908778\n",
            "ROC AUC:\n",
            " 0.8180236473845693\n",
            "Cohen's Kappa:\n",
            " 0.5944018042904349\n"
          ]
        }
      ],
      "metadata": {
        "colab": {
          "base_uri": "https://localhost:8080/"
        },
        "id": "SyLpjk09YLjX",
        "outputId": "cd92fffa-e66b-4cb1-c3c3-196e063dd5f0"
      }
    }
  ]
}